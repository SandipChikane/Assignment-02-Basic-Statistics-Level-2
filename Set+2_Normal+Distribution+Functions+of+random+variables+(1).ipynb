{
  "nbformat": 4,
  "nbformat_minor": 0,
  "metadata": {
    "colab": {
      "provenance": []
    },
    "kernelspec": {
      "name": "python3",
      "display_name": "Python 3"
    },
    "language_info": {
      "name": "python"
    }
  },
  "cells": [
    {
      "cell_type": "code",
      "execution_count": 1,
      "metadata": {
        "id": "Q7taGv1xPfaY"
      },
      "outputs": [],
      "source": [
        "from scipy import stats"
      ]
    },
    {
      "cell_type": "markdown",
      "source": [
        "# **Question-1**"
      ],
      "metadata": {
        "id": "5-FoL_UMPuGQ"
      }
    },
    {
      "cell_type": "code",
      "source": [
        "#1The time required for servicing transmissions is normally distributed with mu= 45 minutes and sigma = 8 minutes. The service manager plans\n",
        "#to have work begin on the transmission of a customer’s car 10 minutes after the car is dropped off and the customer is told that the car \n",
        "#will be ready within 1 hour from drop-off. What is the probability that the service manager cannot meet his commitment? \n",
        "\n",
        "#A.\t0.3875   \n",
        "#B.\t0.2676   \n",
        "#C.\t0.5   \n",
        "#D. 0.6987 \n"
      ],
      "metadata": {
        "id": "WH2LImdePta7"
      },
      "execution_count": null,
      "outputs": []
    },
    {
      "cell_type": "code",
      "source": [
        "#Given Data: -\n",
        "#mu =45+10= 55 minutes (Population mean will become 55 minutes if starts after 10 minutes of drop-off)\n",
        "#sigma = 8 #minutes\n",
        "#x=60 minutes  (Mean for sample if he started transmission will be within 60 minutes)\n",
        "\n",
        "# We will use t-distribution as sample size will be less.\n",
        "Z=(60-55)/8\n",
        "Z"
      ],
      "metadata": {
        "colab": {
          "base_uri": "https://localhost:8080/"
        },
        "id": "_W1Hmos0QLPa",
        "outputId": "940d541c-9afb-4a72-a961-355712bee9b6"
      },
      "execution_count": 14,
      "outputs": [
        {
          "output_type": "execute_result",
          "data": {
            "text/plain": [
              "0.625"
            ]
          },
          "metadata": {},
          "execution_count": 14
        }
      ]
    },
    {
      "cell_type": "code",
      "source": [
        "print(\"probability that the service manager cannot meet his commitment:-\",(1-stats.norm.cdf(0.625))) #we need probability of right side    "
      ],
      "metadata": {
        "colab": {
          "base_uri": "https://localhost:8080/"
        },
        "id": "xyiVO0DERcuT",
        "outputId": "86fc95e3-1ef6-4a15-ca5b-cf4300c97ff0"
      },
      "execution_count": 24,
      "outputs": [
        {
          "output_type": "stream",
          "name": "stdout",
          "text": [
            "probability that the service manager cannot meet his commitment:- 0.26598552904870054\n"
          ]
        }
      ]
    },
    {
      "cell_type": "markdown",
      "source": [
        "# **Question - 2**"
      ],
      "metadata": {
        "id": "ELjRt5xgTN71"
      }
    },
    {
      "cell_type": "code",
      "source": [
        "#The current age (in years) of 400 clerical employees at an insurance claims processing center is normally distributed with\n",
        "#mean  mu= 38 and Standard deviation sigma=6. For each statement below, please specify True/False. If false, briefly explain why.\n",
        "\n",
        "#Given data:\n",
        "# mu = 38\n",
        "# sigma = 6\n",
        " # popolation size = 400"
      ],
      "metadata": {
        "id": "sdesgxh7TM07"
      },
      "execution_count": 33,
      "outputs": []
    },
    {
      "cell_type": "code",
      "source": [
        "#A.\tMore employees at the processing center are older than 44 than between 38 and 44.\n",
        "Z=(44-38)/6  # Z-score at 44.\n",
        "print(\"Probility of Z-score of 44 at its right side:\", (1-stats.norm.cdf(Z)))\n",
        "print(\"Total employees having age older than 44 is:\",round((1-stats.norm.cdf(Z))*400,0))"
      ],
      "metadata": {
        "colab": {
          "base_uri": "https://localhost:8080/"
        },
        "id": "LH0AWUVFVM1J",
        "outputId": "1eba3ee0-2032-4b87-a8c1-e8e6a6815c4d"
      },
      "execution_count": 39,
      "outputs": [
        {
          "output_type": "stream",
          "name": "stdout",
          "text": [
            "Probility of Z-score of 44 at its right side: 0.15865525393145707\n",
            "Total employees having age older than 44 is: 63.0\n"
          ]
        }
      ]
    },
    {
      "cell_type": "code",
      "source": [
        "z=(38-38)/6 # z-score at 38\n",
        "print(\"Probibility of age between 38 and 44 is :\",(stats.norm.cdf(Z)-stats.norm.cdf(z)))\n",
        "print(\"Total employees having age between 38 and 44 are :\",round((stats.norm.cdf(Z)-stats.norm.cdf(z))*400,0))"
      ],
      "metadata": {
        "colab": {
          "base_uri": "https://localhost:8080/"
        },
        "id": "WX6SHolnU8fS",
        "outputId": "f74d3ec0-4b31-44e7-f744-28046a405673"
      },
      "execution_count": 42,
      "outputs": [
        {
          "output_type": "stream",
          "name": "stdout",
          "text": [
            "Probibility of age between 38 and 44 is : 0.3413447460685429\n",
            "Total employees having age between 38 and 44 are : 137.0\n"
          ]
        }
      ]
    },
    {
      "cell_type": "code",
      "source": [
        "#A.\tMore employees at the processing center are older than 44 than between 38 and 44.\n",
        "#FALSE. From above we can see that the number of employees having age between 38 and 44 are more than number of employees having age above 44."
      ],
      "metadata": {
        "id": "sDFPvCpDapW2"
      },
      "execution_count": null,
      "outputs": []
    },
    {
      "cell_type": "code",
      "source": [
        "#B. A training program for employees under the age of 30 at the center would be expected to attract about 36 employees.\n",
        "z=(30-38)/6 #z-score at 30\n",
        "print(\"Number of employee under age of 30 is :\",round(stats.norm.cdf(z)*400,0))"
      ],
      "metadata": {
        "colab": {
          "base_uri": "https://localhost:8080/"
        },
        "id": "Uf6BJe76bP4P",
        "outputId": "9d6d54c4-e14d-4386-d7a9-967000f77eca"
      },
      "execution_count": 44,
      "outputs": [
        {
          "output_type": "stream",
          "name": "stdout",
          "text": [
            "Number of employee under age of 30 is : 36.0\n"
          ]
        }
      ]
    },
    {
      "cell_type": "code",
      "source": [
        "#TRUE. It is True that a training program for employees under the age of 30 at the center would be expected to attract about 36 employees."
      ],
      "metadata": {
        "id": "l8MINfW9cBjZ"
      },
      "execution_count": null,
      "outputs": []
    },
    {
      "cell_type": "markdown",
      "source": [
        "# **Question - 03**"
      ],
      "metadata": {
        "id": "xDwflTJYcRaw"
      }
    },
    {
      "cell_type": "code",
      "source": [
        "\n",
        "# If X1 ~ N(μ, σ2) and X2 ~ N(μ, σ2) are iid normal random variables, then what is the difference between 2 X1 and X1 + X2? \n",
        "#Discuss both their distributions and parameters.       "
      ],
      "metadata": {
        "id": "vlF7hD6scUpq"
      },
      "execution_count": null,
      "outputs": []
    },
    {
      "cell_type": "code",
      "source": [
        "#Ans:- \n",
        "# According to the Central Limit Theorem, any large sum of independent, identically distributed(iid) random variables is approximately Normal.\n",
        "# Hence, From the properties of normal random variables.\n",
        "#     2 X1 ~ N(2μ, 4σ2)\n",
        "#     X1 + X2 = N(μ+μ, σ2+σ2)=N(2μ,2σ2)\n",
        "print(\"2 X1 ~ N(2μ, 4σ2)\")\n",
        "print(\"X1 + X2 ~ N(2μ,2σ2)\")\n",
        "#Diference between (2 X1 -(X1 + X2))\n",
        "#         N(2μ, 4σ2)-N(2μ,2σ2) ===> N(2μ-2μ,4σ2+2σ2) ===> N(0,6σ2)\n",
        "print(\"(2 X1 -(X1 + X2) is given by N(0,6σ2)\")"
      ],
      "metadata": {
        "colab": {
          "base_uri": "https://localhost:8080/"
        },
        "id": "B1wImhoMdFOA",
        "outputId": "0b611150-aa38-48e2-e23f-07f42fefbc8c"
      },
      "execution_count": 46,
      "outputs": [
        {
          "output_type": "stream",
          "name": "stdout",
          "text": [
            "2 X1 ~ N(2μ, 4σ2)\n",
            "X1 + X2 ~ N(2μ,2σ2)\n",
            "(2 X1 -(X1 + X2) is given by N(0,6σ2)\n"
          ]
        }
      ]
    },
    {
      "cell_type": "code",
      "source": [
        "#The mean of  2X1 and (X1 + X2) and  is same but the variance of 2X1  is 2 times more than the variance of (X1 + X2)."
      ],
      "metadata": {
        "id": "N-PYya-Zfy8Z"
      },
      "execution_count": null,
      "outputs": []
    },
    {
      "cell_type": "markdown",
      "source": [
        "# **Qustion - 4**"
      ],
      "metadata": {
        "id": "AZKBTK9agZT1"
      }
    },
    {
      "cell_type": "code",
      "source": [
        "#Let X ~ N(100, 202). Find two values, a and b, symmetric about the mean, such that the probability of the random variable \n",
        "#taking a value between them is 0.99\n",
        "\n",
        "#Given data:- Mu = 100  (Mean)\n",
        "#             sigma = 20  (Standard deviation)\n",
        "\n",
        "# As said above uch that the probability of the random variable taking a value between them is 0.99 then the area between a and b will be 0.99 so\n",
        "# the points will have probability of 0.005 and 0.995. \n",
        "#We will calculate z-score at this probability.\n",
        "print(\"We will calculate z-score at this probability 0.005 & 0.995.\")\n",
        "print(\"z-score at 0.005 is: \",round(stats.norm.ppf(0.005),3))\n",
        "print(\"z-score at 0.995 is: \",round(stats.norm.ppf(0.995),3))\n",
        "print(\"\")\n",
        "#Values at this z-score are below\n",
        "print(\"Value for a & b are calculated below:\")\n",
        "print(\"Value of a = \",(-2.576*20)+100)\n",
        "print(\"Value of b = \",(2.576*20)+100)\n"
      ],
      "metadata": {
        "colab": {
          "base_uri": "https://localhost:8080/"
        },
        "id": "V5i0FagTgYmI",
        "outputId": "b1c428ba-17d7-46c2-ba59-c268808961ad"
      },
      "execution_count": 61,
      "outputs": [
        {
          "output_type": "stream",
          "name": "stdout",
          "text": [
            "We will calculate z-score at this probability 0.005 & 0.995.\n",
            "z-score at 0.005 is:  -2.576\n",
            "z-score at 0.995 is:  2.576\n",
            "\n",
            "Value for a & b are calculated below:\n",
            "Value of a =  48.48\n",
            "Value of b =  151.52\n"
          ]
        }
      ]
    },
    {
      "cell_type": "markdown",
      "source": [
        "# **Question - 05**"
      ],
      "metadata": {
        "id": "9uLL7i-6kxbT"
      }
    },
    {
      "cell_type": "code",
      "source": [
        "#Consider a company that has two different divisions. The annual profits from the two divisions are independent \n",
        "#and have distributions Profit1 ~ N(5, 32) and Profit2 ~ N(7, 42) respectively. Both the profits are in $ Million. \n",
        "#Answer the following questions about the total profit of the company in Rupees. Assume that $1 = Rs. 45"
      ],
      "metadata": {
        "id": "t-gjMIiakwqq"
      },
      "execution_count": null,
      "outputs": []
    },
    {
      "cell_type": "code",
      "source": [
        "# Mean profits from two different divisions of a company = Mean1 + Mean2\n",
        "Mean = 5+7\n",
        "print(\"Mean profit of two division is = Rs\",Mean*45,\"Million\")"
      ],
      "metadata": {
        "colab": {
          "base_uri": "https://localhost:8080/"
        },
        "id": "QhObsDYaoNDN",
        "outputId": "4c18699d-7371-45f8-fec7-f9bf3176d583"
      },
      "execution_count": 64,
      "outputs": [
        {
          "output_type": "stream",
          "name": "stdout",
          "text": [
            "Mean profit of two division is = Rs 540 Million\n"
          ]
        }
      ]
    },
    {
      "cell_type": "code",
      "source": [
        "from math import *\n",
        "# Variance of profits from two different divisions of a company = σ = σ1^2 + σ2^2\n",
        "σ = sqrt((9)+(16))\n",
        "print('Standard Deviation is = Rs', σ*45, 'Million')"
      ],
      "metadata": {
        "colab": {
          "base_uri": "https://localhost:8080/"
        },
        "id": "-2quKrKpo0I3",
        "outputId": "f71ce7c2-ce80-4059-e026-974b24395a2f"
      },
      "execution_count": 67,
      "outputs": [
        {
          "output_type": "stream",
          "name": "stdout",
          "text": [
            "Standard Deviation is = Rs 225.0 Million\n"
          ]
        }
      ]
    },
    {
      "cell_type": "code",
      "source": [
        "#A.\tSpecify a Rupee range (centered on the mean) such that it contains 95% probability for the annual profit of the company.\n",
        "print(\"Rupee range (centered on the mean) is Rs\",(stats.norm.interval(0.95,540,225)),'in Millions')"
      ],
      "metadata": {
        "colab": {
          "base_uri": "https://localhost:8080/"
        },
        "id": "Dav6r6DbpWIy",
        "outputId": "e2a6e7f3-b8e7-45de-c3ac-ddab7e517197"
      },
      "execution_count": 71,
      "outputs": [
        {
          "output_type": "stream",
          "name": "stdout",
          "text": [
            "Rupee range (centered on the mean) is Rs (99.00810347848784, 980.9918965215122) in Millions\n"
          ]
        }
      ]
    },
    {
      "cell_type": "code",
      "source": [
        "#B.\tSpecify the 5th percentile of profit (in Rupees) for the company\n",
        "# To calculate the 5th percentile of profit we will calculate z-score at 0.05\n",
        "print(\"Value of Z at 0.05 = \",(round(stats.norm.ppf(0.05),4)))\n",
        "\n",
        "#Profit at -1.6449 is calculated as below\n",
        "print('5th percentile of profit (in Rupees) for the company =',round((225*(-1.6449)+540),0),'million')"
      ],
      "metadata": {
        "colab": {
          "base_uri": "https://localhost:8080/"
        },
        "id": "m2niUjAlpy_F",
        "outputId": "2ce1d3df-8913-46bf-966e-0c2c552cb08e"
      },
      "execution_count": 90,
      "outputs": [
        {
          "output_type": "stream",
          "name": "stdout",
          "text": [
            "Value of Z at 0.05 =  -1.6449\n",
            "5th percentile of profit (in Rupees) for the company = 170.0 million\n"
          ]
        }
      ]
    },
    {
      "cell_type": "code",
      "source": [
        "#C.\tWhich of the two divisions has a larger probability of making a loss in a given year?\n",
        "print(\"Probability of Division 1 making a loss P(X<0) =\",stats.norm.cdf(0,5,3))\n",
        "print(\"Probability of Division 2 making a loss P(X<0) =\",stats.norm.cdf(0,7,4))\n",
        "print()\n",
        "print()\n",
        "print(\"Division 1 has larger probability of making a loss in a given year than Division 2\")\n"
      ],
      "metadata": {
        "colab": {
          "base_uri": "https://localhost:8080/"
        },
        "id": "rOxejdD8rslv",
        "outputId": "65ef5a04-b496-4681-b6b2-80639fdf1d25"
      },
      "execution_count": 97,
      "outputs": [
        {
          "output_type": "stream",
          "name": "stdout",
          "text": [
            "Probability of Division 1 making a loss P(X<0) = 0.0477903522728147\n",
            "Probability of Division 2 making a loss P(X<0) = 0.040059156863817086\n",
            "\n",
            "\n",
            "Division 1 has larger probability of making a loss in a given year than Division 2\n"
          ]
        }
      ]
    }
  ]
}